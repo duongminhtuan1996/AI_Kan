{
 "cells": [
  {
   "cell_type": "markdown",
   "metadata": {},
   "source": [
    "# 1.Data structure"
   ]
  },
  {
   "cell_type": "markdown",
   "metadata": {},
   "source": [
    "Cho một dictionary gồm tên và điểm số <br>\n",
    "`points = {'an':9, 'bình': 7, 'khanh':8, 'linh':10, 'huyen':6}`<br>\n",
    "1. Hãy sắp xếp dictionary trên theo điểm số tăng dần."
   ]
  },
  {
   "cell_type": "code",
   "execution_count": 11,
   "metadata": {},
   "outputs": [
    {
     "data": {
      "text/plain": [
       "[('linh', 10), ('an', 9), ('khanh', 8), ('bình', 7), ('huyen', 6)]"
      ]
     },
     "execution_count": 11,
     "metadata": {},
     "output_type": "execute_result"
    }
   ],
   "source": [
    "points = {'an':9, 'bình': 7, 'khanh':8, 'linh':10, 'huyen':6}\n",
    "sorted(points.items(), key=lambda item: item[1],reverse=True)"
   ]
  },
  {
   "cell_type": "markdown",
   "metadata": {},
   "source": [
    "2. Hãy tạo một dictionary có key là điểm số và giá trị là tên."
   ]
  },
  {
   "cell_type": "code",
   "execution_count": 7,
   "metadata": {},
   "outputs": [
    {
     "data": {
      "text/plain": [
       "{9: 'an', 7: 'bình', 8: 'khanh', 10: 'linh', 6: 'huyen'}"
      ]
     },
     "execution_count": 7,
     "metadata": {},
     "output_type": "execute_result"
    }
   ],
   "source": [
    "new_points = dict((value, key) for key, value in points.items())\n",
    "new_points"
   ]
  },
  {
   "cell_type": "markdown",
   "metadata": {},
   "source": [
    "Tiếp theo, cho một list như sau:<br>\n",
    "`target = ['vi', 'mot', 'cong', 'dong', 'AI', 'vung', 'vung', 'manh', 'manh', 'hon']`<br>\n",
    "3. Tìm các giá trị duy nhất của list đó"
   ]
  },
  {
   "cell_type": "code",
   "execution_count": 13,
   "metadata": {},
   "outputs": [
    {
     "name": "stdout",
     "output_type": "stream",
     "text": [
      "['vi', 'mot', 'cong', 'dong', 'AI', 'vung', 'manh', 'hon']\n",
      "['hon', 'manh', 'mot', 'AI', 'cong', 'vi', 'vung', 'dong']\n"
     ]
    }
   ],
   "source": [
    "#Method 1\n",
    "target = ['vi', 'mot', 'cong', 'dong', 'AI', 'vung', 'vung', 'manh', 'manh', 'hon']\n",
    "new_target = []\n",
    "for word in target:\n",
    "    if word not in new_target:\n",
    "        new_target.append(word)\n",
    "print(new_target)\n",
    "\n",
    "new_target2 = set(target)\n",
    "new_target2 = list(new_target2)\n",
    "print(new_target2)"
   ]
  },
  {
   "cell_type": "markdown",
   "metadata": {},
   "source": [
    "4. Đếm số lần lặp lại của một phần tử trong list"
   ]
  },
  {
   "cell_type": "code",
   "execution_count": 18,
   "metadata": {},
   "outputs": [
    {
     "name": "stdout",
     "output_type": "stream",
     "text": [
      "Method 1: \n",
      " {'vi': 1, 'mot': 1, 'cong': 1, 'dong': 1, 'AI': 1, 'vung': 2, 'manh': 2, 'hon': 1}\n",
      "Method 2: \n",
      " {'vi': 1, 'mot': 1, 'cong': 1, 'dong': 1, 'AI': 1, 'vung': 2, 'manh': 2, 'hon': 1}\n",
      "Method 3: \n",
      " Counter({'vung': 2, 'manh': 2, 'vi': 1, 'mot': 1, 'cong': 1, 'dong': 1, 'AI': 1, 'hon': 1})\n"
     ]
    }
   ],
   "source": [
    "#Method 1\n",
    "count = {}\n",
    "for k in target:\n",
    "    if k not in count.keys():\n",
    "        count[k] = 1\n",
    "    else:\n",
    "        count[k] += 1\n",
    "print(f'Method 1: \\n {count}')\n",
    "\n",
    "#Method 2 using comprehention and function count\n",
    "countDict = {element: target.count(element) for element in target}\n",
    "print(f'Method 2: \\n {countDict}')\n",
    "\n",
    "#Method 3 using function Counter in package collections\n",
    "from collections import Counter\n",
    "countDict = Counter(target)\n",
    "print(f'Method 3: \\n {countDict}')\n",
    "\n"
   ]
  },
  {
   "cell_type": "markdown",
   "metadata": {},
   "source": [
    "5. Tạo ra một list mới mà nếu phần tử đố đã xuất hiện trong list rồi thì chỉ lấy duy nhất giá trị bắt gặp đầu tiên\n"
   ]
  },
  {
   "cell_type": "code",
   "execution_count": 20,
   "metadata": {},
   "outputs": [
    {
     "name": "stdout",
     "output_type": "stream",
     "text": [
      "['vi', 'mot', 'cong', 'dong', 'AI', 'vung', 'manh', 'hon']\n"
     ]
    }
   ],
   "source": [
    "nunique_list = []\n",
    "for word in target:\n",
    "    if word not in nunique_list:\n",
    "        nunique_list.append(word)\n",
    "print(nunique_list)"
   ]
  },
  {
   "cell_type": "markdown",
   "metadata": {},
   "source": [
    "Cho một đoạn văn bản như sau:<br>\n",
    "`words = 'Machine Learning Algorithms to Practice là một cuốn sách cân bằng giữa lý thuyết và thực hành'`<br>\n",
    "\n",
    "6. Hãy phân chia câu văn trên thành một  list mà mỗi một từ trong cầu là một phần tử của list"
   ]
  },
  {
   "cell_type": "code",
   "execution_count": 22,
   "metadata": {},
   "outputs": [
    {
     "name": "stdout",
     "output_type": "stream",
     "text": [
      "['Machine', 'Learning', 'Algorithms', 'to', 'Practice', 'là', 'một', 'cuốn', 'sách', 'cân', 'bằng', 'giữa', 'lý', 'thuyết', 'và', 'thực', 'hành']\n"
     ]
    }
   ],
   "source": [
    "words = 'Machine Learning Algorithms to Practice là một cuốn sách cân bằng giữa lý thuyết và thực hành'\n",
    "\n",
    "lst_words = words.split()\n",
    "print(lst_words)"
   ]
  },
  {
   "cell_type": "markdown",
   "metadata": {},
   "source": [
    "7. Đảo ngược vị trí các từ trongg list vừa tạo được"
   ]
  },
  {
   "cell_type": "code",
   "execution_count": 23,
   "metadata": {},
   "outputs": [
    {
     "name": "stdout",
     "output_type": "stream",
     "text": [
      "['hành', 'thực', 'và', 'thuyết', 'lý', 'giữa', 'bằng', 'cân', 'sách', 'cuốn', 'một', 'là', 'Practice', 'to', 'Algorithms', 'Learning', 'Machine']\n"
     ]
    }
   ],
   "source": [
    "reverse_lst = lst_words[::-1]\n",
    "print(reverse_lst)"
   ]
  },
  {
   "cell_type": "markdown",
   "metadata": {},
   "source": [
    "8. Tính giai thừa $n!=1 \\times 2 \\times 3...\\times n$"
   ]
  },
  {
   "cell_type": "code",
   "execution_count": 29,
   "metadata": {},
   "outputs": [],
   "source": [
    "#Method 1 using for\n",
    "def fractorial(n):\n",
    "    frac = 1\n",
    "    for i in range(2, n+1):\n",
    "        frac *= i\n",
    "    return frac\n"
   ]
  },
  {
   "cell_type": "code",
   "execution_count": 30,
   "metadata": {},
   "outputs": [
    {
     "data": {
      "text/plain": [
       "2432902008176640000"
      ]
     },
     "execution_count": 30,
     "metadata": {},
     "output_type": "execute_result"
    }
   ],
   "source": [
    "fractorial(20)"
   ]
  },
  {
   "cell_type": "code",
   "execution_count": 26,
   "metadata": {},
   "outputs": [],
   "source": [
    "#Method 2 using while\n",
    "def fractorial(n):\n",
    "    frac = 1\n",
    "    value = 1\n",
    "    while value <= n:\n",
    "        frac *= value\n",
    "        value += 1\n",
    "    return frac"
   ]
  },
  {
   "cell_type": "code",
   "execution_count": 27,
   "metadata": {},
   "outputs": [
    {
     "data": {
      "text/plain": [
       "2432902008176640000"
      ]
     },
     "execution_count": 27,
     "metadata": {},
     "output_type": "execute_result"
    }
   ],
   "source": [
    "fractorial(20)"
   ]
  },
  {
   "cell_type": "markdown",
   "metadata": {},
   "source": [
    "9. Tích của số chắn liên tiếp khác 0 nhỏ hơn n"
   ]
  },
  {
   "cell_type": "code",
   "execution_count": 33,
   "metadata": {},
   "outputs": [],
   "source": [
    "#Method 1 Using for\n",
    "def pro_even_1(n):\n",
    "    mul = 1\n",
    "    for i in range(2, n+1, 2):\n",
    "        mul *= i\n",
    "    return mul"
   ]
  },
  {
   "cell_type": "code",
   "execution_count": 37,
   "metadata": {},
   "outputs": [
    {
     "data": {
      "text/plain": [
       "3715891200"
      ]
     },
     "execution_count": 37,
     "metadata": {},
     "output_type": "execute_result"
    }
   ],
   "source": [
    "pro_even_1(20)"
   ]
  },
  {
   "cell_type": "code",
   "execution_count": 42,
   "metadata": {},
   "outputs": [],
   "source": [
    "#Method 2 using while\n",
    "def pro_even_2(n):\n",
    "    mul = 1\n",
    "    step = 2\n",
    "    while step <=n:\n",
    "        mul *= step\n",
    "        step += 2\n",
    "    return mul"
   ]
  },
  {
   "cell_type": "code",
   "execution_count": 43,
   "metadata": {},
   "outputs": [
    {
     "data": {
      "text/plain": [
       "3715891200"
      ]
     },
     "execution_count": 43,
     "metadata": {},
     "output_type": "execute_result"
    }
   ],
   "source": [
    "pro_even_2(20)"
   ]
  },
  {
   "cell_type": "code",
   "execution_count": null,
   "metadata": {},
   "outputs": [],
   "source": []
  }
 ],
 "metadata": {
  "kernelspec": {
   "display_name": "base",
   "language": "python",
   "name": "python3"
  },
  "language_info": {
   "codemirror_mode": {
    "name": "ipython",
    "version": 3
   },
   "file_extension": ".py",
   "mimetype": "text/x-python",
   "name": "python",
   "nbconvert_exporter": "python",
   "pygments_lexer": "ipython3",
   "version": "3.9.12"
  }
 },
 "nbformat": 4,
 "nbformat_minor": 2
}
