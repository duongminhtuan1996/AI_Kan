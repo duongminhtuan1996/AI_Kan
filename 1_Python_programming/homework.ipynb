{
 "cells": [
  {
   "cell_type": "markdown",
   "metadata": {},
   "source": [
    "# 1.Data structure"
   ]
  },
  {
   "cell_type": "markdown",
   "metadata": {},
   "source": [
    "Cho một dictionary gồm tên và điểm số <br>\n",
    "`points = {'an':9, 'bình': 7, 'khanh':8, 'linh':10, 'huyen':6}`<br>\n",
    "1. Hãy sắp xếp dictionary trên theo điểm số tăng dần."
   ]
  },
  {
   "cell_type": "code",
   "execution_count": 11,
   "metadata": {},
   "outputs": [
    {
     "data": {
      "text/plain": [
       "[('linh', 10), ('an', 9), ('khanh', 8), ('bình', 7), ('huyen', 6)]"
      ]
     },
     "execution_count": 11,
     "metadata": {},
     "output_type": "execute_result"
    }
   ],
   "source": [
    "points = {'an':9, 'bình': 7, 'khanh':8, 'linh':10, 'huyen':6}\n",
    "sorted(points.items(), key=lambda item: item[1],reverse=True)"
   ]
  },
  {
   "cell_type": "markdown",
   "metadata": {},
   "source": [
    "2. Hãy tạo một dictionary có key là điểm số và giá trị là tên."
   ]
  },
  {
   "cell_type": "code",
   "execution_count": 7,
   "metadata": {},
   "outputs": [
    {
     "data": {
      "text/plain": [
       "{9: 'an', 7: 'bình', 8: 'khanh', 10: 'linh', 6: 'huyen'}"
      ]
     },
     "execution_count": 7,
     "metadata": {},
     "output_type": "execute_result"
    }
   ],
   "source": [
    "new_points = dict((value, key) for key, value in points.items())\n",
    "new_points"
   ]
  },
  {
   "cell_type": "markdown",
   "metadata": {},
   "source": [
    "Tiếp theo, cho một list như sau:<br>\n",
    "`target = ['vi', 'mot', 'cong', 'dong', 'AI', 'vung', 'vung', 'manh', 'manh', 'hon']`<br>\n",
    "3. Tìm các giá trị duy nhất của list đó"
   ]
  },
  {
   "cell_type": "code",
   "execution_count": 13,
   "metadata": {},
   "outputs": [
    {
     "name": "stdout",
     "output_type": "stream",
     "text": [
      "['vi', 'mot', 'cong', 'dong', 'AI', 'vung', 'manh', 'hon']\n",
      "['hon', 'manh', 'mot', 'AI', 'cong', 'vi', 'vung', 'dong']\n"
     ]
    }
   ],
   "source": [
    "#Method 1\n",
    "target = ['vi', 'mot', 'cong', 'dong', 'AI', 'vung', 'vung', 'manh', 'manh', 'hon']\n",
    "new_target = []\n",
    "for word in target:\n",
    "    if word not in new_target:\n",
    "        new_target.append(word)\n",
    "print(new_target)\n",
    "\n",
    "new_target2 = set(target)\n",
    "new_target2 = list(new_target2)\n",
    "print(new_target2)"
   ]
  },
  {
   "cell_type": "markdown",
   "metadata": {},
   "source": [
    "4. Đếm số lần lặp lại của một phần tử trong list"
   ]
  },
  {
   "cell_type": "code",
   "execution_count": 18,
   "metadata": {},
   "outputs": [
    {
     "name": "stdout",
     "output_type": "stream",
     "text": [
      "Method 1: \n",
      " {'vi': 1, 'mot': 1, 'cong': 1, 'dong': 1, 'AI': 1, 'vung': 2, 'manh': 2, 'hon': 1}\n",
      "Method 2: \n",
      " {'vi': 1, 'mot': 1, 'cong': 1, 'dong': 1, 'AI': 1, 'vung': 2, 'manh': 2, 'hon': 1}\n",
      "Method 3: \n",
      " Counter({'vung': 2, 'manh': 2, 'vi': 1, 'mot': 1, 'cong': 1, 'dong': 1, 'AI': 1, 'hon': 1})\n"
     ]
    }
   ],
   "source": [
    "#Method 1\n",
    "count = {}\n",
    "for k in target:\n",
    "    if k not in count.keys():\n",
    "        count[k] = 1\n",
    "    else:\n",
    "        count[k] += 1\n",
    "print(f'Method 1: \\n {count}')\n",
    "\n",
    "#Method 2 using comprehention and function count\n",
    "countDict = {element: target.count(element) for element in target}\n",
    "print(f'Method 2: \\n {countDict}')\n",
    "\n",
    "#Method 3 using function Counter in package collections\n",
    "from collections import Counter\n",
    "countDict = Counter(target)\n",
    "print(f'Method 3: \\n {countDict}')\n",
    "\n"
   ]
  },
  {
   "cell_type": "markdown",
   "metadata": {},
   "source": [
    "5. Tạo ra một list mới mà nếu phần tử đố đã xuất hiện trong list rồi thì chỉ lấy duy nhất giá trị bắt gặp đầu tiên\n"
   ]
  },
  {
   "cell_type": "code",
   "execution_count": 20,
   "metadata": {},
   "outputs": [
    {
     "name": "stdout",
     "output_type": "stream",
     "text": [
      "['vi', 'mot', 'cong', 'dong', 'AI', 'vung', 'manh', 'hon']\n"
     ]
    }
   ],
   "source": [
    "nunique_list = []\n",
    "for word in target:\n",
    "    if word not in nunique_list:\n",
    "        nunique_list.append(word)\n",
    "print(nunique_list)"
   ]
  },
  {
   "cell_type": "markdown",
   "metadata": {},
   "source": [
    "Cho một đoạn văn bản như sau:<br>\n",
    "`words = 'Machine Learning Algorithms to Practice là một cuốn sách cân bằng giữa lý thuyết và thực hành'`<br>\n",
    "\n",
    "6. Hãy phân chia câu văn trên thành một  list mà mỗi một từ trong cầu là một phần tử của list"
   ]
  },
  {
   "cell_type": "code",
   "execution_count": 22,
   "metadata": {},
   "outputs": [
    {
     "name": "stdout",
     "output_type": "stream",
     "text": [
      "['Machine', 'Learning', 'Algorithms', 'to', 'Practice', 'là', 'một', 'cuốn', 'sách', 'cân', 'bằng', 'giữa', 'lý', 'thuyết', 'và', 'thực', 'hành']\n"
     ]
    }
   ],
   "source": [
    "words = 'Machine Learning Algorithms to Practice là một cuốn sách cân bằng giữa lý thuyết và thực hành'\n",
    "\n",
    "lst_words = words.split()\n",
    "print(lst_words)"
   ]
  },
  {
   "cell_type": "markdown",
   "metadata": {},
   "source": [
    "7. Đảo ngược vị trí các từ trongg list vừa tạo được"
   ]
  },
  {
   "cell_type": "code",
   "execution_count": 23,
   "metadata": {},
   "outputs": [
    {
     "name": "stdout",
     "output_type": "stream",
     "text": [
      "['hành', 'thực', 'và', 'thuyết', 'lý', 'giữa', 'bằng', 'cân', 'sách', 'cuốn', 'một', 'là', 'Practice', 'to', 'Algorithms', 'Learning', 'Machine']\n"
     ]
    }
   ],
   "source": [
    "reverse_lst = lst_words[::-1]\n",
    "print(reverse_lst)"
   ]
  },
  {
   "cell_type": "markdown",
   "metadata": {},
   "source": [
    "8. Tính giai thừa $n!=1 \\times 2 \\times 3...\\times n$"
   ]
  },
  {
   "cell_type": "code",
   "execution_count": 29,
   "metadata": {},
   "outputs": [],
   "source": [
    "#Method 1 using for\n",
    "def fractorial(n):\n",
    "    frac = 1\n",
    "    for i in range(2, n+1):\n",
    "        frac *= i\n",
    "    return frac\n"
   ]
  },
  {
   "cell_type": "code",
   "execution_count": 30,
   "metadata": {},
   "outputs": [
    {
     "data": {
      "text/plain": [
       "2432902008176640000"
      ]
     },
     "execution_count": 30,
     "metadata": {},
     "output_type": "execute_result"
    }
   ],
   "source": [
    "fractorial(20)"
   ]
  },
  {
   "cell_type": "code",
   "execution_count": 26,
   "metadata": {},
   "outputs": [],
   "source": [
    "#Method 2 using while\n",
    "def fractorial(n):\n",
    "    frac = 1\n",
    "    value = 1\n",
    "    while value <= n:\n",
    "        frac *= value\n",
    "        value += 1\n",
    "    return frac"
   ]
  },
  {
   "cell_type": "code",
   "execution_count": 27,
   "metadata": {},
   "outputs": [
    {
     "data": {
      "text/plain": [
       "2432902008176640000"
      ]
     },
     "execution_count": 27,
     "metadata": {},
     "output_type": "execute_result"
    }
   ],
   "source": [
    "fractorial(20)"
   ]
  },
  {
   "cell_type": "markdown",
   "metadata": {},
   "source": [
    "9. Tích của số chắn liên tiếp khác 0 nhỏ hơn n"
   ]
  },
  {
   "cell_type": "code",
   "execution_count": 33,
   "metadata": {},
   "outputs": [],
   "source": [
    "#Method 1 Using for\n",
    "def pro_even_1(n):\n",
    "    mul = 1\n",
    "    for i in range(2, n+1, 2):\n",
    "        mul *= i\n",
    "    return mul"
   ]
  },
  {
   "cell_type": "code",
   "execution_count": 37,
   "metadata": {},
   "outputs": [
    {
     "data": {
      "text/plain": [
       "3715891200"
      ]
     },
     "execution_count": 37,
     "metadata": {},
     "output_type": "execute_result"
    }
   ],
   "source": [
    "pro_even_1(20)"
   ]
  },
  {
   "cell_type": "code",
   "execution_count": 42,
   "metadata": {},
   "outputs": [],
   "source": [
    "#Method 2 using while\n",
    "def pro_even_2(n):\n",
    "    mul = 1\n",
    "    step = 2\n",
    "    while step <=n:\n",
    "        mul *= step\n",
    "        step += 2\n",
    "    return mul"
   ]
  },
  {
   "cell_type": "code",
   "execution_count": 43,
   "metadata": {},
   "outputs": [
    {
     "data": {
      "text/plain": [
       "3715891200"
      ]
     },
     "execution_count": 43,
     "metadata": {},
     "output_type": "execute_result"
    }
   ],
   "source": [
    "pro_even_2(20)"
   ]
  },
  {
   "cell_type": "markdown",
   "metadata": {},
   "source": [
    "10. Viết một chương trình dự đoán chữ số may mắn với user story như sau:\n",
    "- Lấy thông tin `name` của người chơi và xuất ra màn hình: `welcome your_name to the digit guessing game`.\n",
    "- Sử dụng hàm random để tạo một **chữ số may mắn** ngẫu nhiên. \n",
    "- Chương trình cho phép người chơi nhập tối đa 5 lượt. Nếu người chơi nhập vào một chữ số :\n",
    "  - trùng với chữ số may mắn thì in ra `congratulate you are a winner`, in ra tổng số lượt đã dự đoán và kết thúc trò chơi.\n",
    "  - lớn hơn chữ số may mắn thì in ra gợi ý `you should guess le"
   ]
  },
  {
   "cell_type": "code",
   "execution_count": 47,
   "metadata": {},
   "outputs": [
    {
     "name": "stdout",
     "output_type": "stream",
     "text": [
      "Welcome Tuan to the digit guessing game\n",
      "You should guess more\n",
      "\n",
      "You should guess more\n",
      "\n",
      "You should guess more\n",
      "\n",
      "You should guess more\n",
      "\n",
      "You should guess more\n",
      "\n",
      "You should guess more\n",
      "\n",
      "You losser\n"
     ]
    }
   ],
   "source": [
    "#Method 1 using While\n",
    "import random\n",
    "random.seed(42)\n",
    "\n",
    "def guessNumberWhile(lb=0, ub = 9, nGuess=5):\n",
    "    \"\"\"\n",
    "    Args:\n",
    "        lb: lower bound for random number\n",
    "        ub: upper bound for random number\n",
    "        nGuess: the maximum number for guesses\n",
    "    \"\"\"\n",
    "    name = input('Your name')\n",
    "    print(f'Welcome {name} to the digit guessing game')\n",
    "    \n",
    "    randN = random.randint(lb, ub)\n",
    "    isEnd = False\n",
    "    total_guess = 0\n",
    "\n",
    "    while not isEnd:\n",
    "        number = int(input('You choose number: '))\n",
    "        total_guess += 1\n",
    "\n",
    "        if number == randN:\n",
    "            print('Congratulate you are a winner')\n",
    "            print('You guessed total ' + str(total_guess) + ' times')\n",
    "            isEnd = True\n",
    "        elif number > randN:\n",
    "            print('You should guess less\\n')\n",
    "        else:\n",
    "            print('You should guess more')\n",
    "        \n",
    "        if total_guess > 5:\n",
    "            print('You losser')\n",
    "            break\n",
    "guessNumberWhile()"
   ]
  },
  {
   "cell_type": "code",
   "execution_count": 50,
   "metadata": {},
   "outputs": [
    {
     "name": "stdout",
     "output_type": "stream",
     "text": [
      "Welcome Tuan to the digital guessing game\n",
      "You should guess less\n",
      "\n",
      "You should guess less\n",
      "\n",
      "You should guess less\n",
      "\n",
      "Congratulate you are a winner\n",
      "You guessed total 3 times\n"
     ]
    }
   ],
   "source": [
    "def guessNumberFor(lb=0, up=9, nGuess=5):\n",
    "    '''\n",
    "    Args:\n",
    "        lb: lower bound for random number\n",
    "        up: upper bound for random number\n",
    "        nGuess: the maximum number of guesses\n",
    "    '''\n",
    "    name = input('Your name')\n",
    "    print(f'Welcome {name} to the digital guessing game')\n",
    "    randN = random.randint(lb, up)\n",
    "\n",
    "    for total_guess in range(nGuess):\n",
    "        number = int(input('You choose number: '))\n",
    "        if number == randN:\n",
    "            print('Congratulate you are a winner')\n",
    "            print('You guessed total ' + str(total_guess) + ' times')\n",
    "            break\n",
    "        elif number < randN:\n",
    "            print('You should guess more\\n')\n",
    "        else:\n",
    "            print('You should guess less\\n')\n",
    "\n",
    "guessNumberFor()\n"
   ]
  },
  {
   "cell_type": "markdown",
   "metadata": {},
   "source": [
    "# 2. Numpy"
   ]
  },
  {
   "cell_type": "code",
   "execution_count": 51,
   "metadata": {},
   "outputs": [],
   "source": [
    "import numpy as np"
   ]
  },
  {
   "cell_type": "markdown",
   "metadata": {},
   "source": [
    "Cho ma trận $\\mathbf{A}$"
   ]
  },
  {
   "cell_type": "code",
   "execution_count": 74,
   "metadata": {},
   "outputs": [],
   "source": [
    "A = np.array([[10, 1, 2],\n",
    "              [9, 7, 4],\n",
    "              [0, 2, 1]])\n",
    "\n",
    "B = np.array([[2, 3, 4],\n",
    "              [0, 4, 2],\n",
    "              [3, 2, 1]])"
   ]
  },
  {
   "cell_type": "markdown",
   "metadata": {},
   "source": [
    "11. concatenate ma trận $\\mathbf{A}$ và ma trận $\\mathbf{B}$ theo dòng"
   ]
  },
  {
   "cell_type": "code",
   "execution_count": 55,
   "metadata": {},
   "outputs": [
    {
     "data": {
      "text/plain": [
       "array([[10,  1,  2,  2,  3,  4],\n",
       "       [ 9,  7,  4,  0,  4,  2],\n",
       "       [ 0,  2,  1,  3,  2,  1]])"
      ]
     },
     "execution_count": 55,
     "metadata": {},
     "output_type": "execute_result"
    }
   ],
   "source": [
    "#Concate row\n",
    "C = np.concatenate((A, B), axis=1)\n",
    "C"
   ]
  },
  {
   "cell_type": "markdown",
   "metadata": {},
   "source": [
    "12. concatenate ma trận $\\mathbf{A}$ và ma trận $\\mathbf{B}$ theo cột"
   ]
  },
  {
   "cell_type": "code",
   "execution_count": 57,
   "metadata": {},
   "outputs": [
    {
     "data": {
      "text/plain": [
       "array([[10,  1,  2],\n",
       "       [ 9,  7,  4],\n",
       "       [ 0,  2,  1],\n",
       "       [ 2,  3,  4],\n",
       "       [ 0,  4,  2],\n",
       "       [ 3,  2,  1]])"
      ]
     },
     "execution_count": 57,
     "metadata": {},
     "output_type": "execute_result"
    }
   ],
   "source": [
    "#Concatenate columns\n",
    "D = np.concatenate((A, B), axis=0)\n",
    "D"
   ]
  },
  {
   "cell_type": "markdown",
   "metadata": {},
   "source": [
    "13. Mở rộng thêm một chiều ở vị trí số 0 và concatenate ma trận $\\mathbf{A}$ và ma trận $\\mathbf{B}$ theo chiều mới mở rộng(tức ra kết quả thu được là 1 tensor 3D có nội dung là một list gồm 2 ma trận $\\mathbf{A}$ và $\\mathbf{B}$)"
   ]
  },
  {
   "cell_type": "code",
   "execution_count": 59,
   "metadata": {},
   "outputs": [
    {
     "data": {
      "text/plain": [
       "array([[[10,  1,  2],\n",
       "        [ 9,  7,  4],\n",
       "        [ 0,  2,  1]],\n",
       "\n",
       "       [[ 2,  3,  4],\n",
       "        [ 0,  4,  2],\n",
       "        [ 3,  2,  1]]])"
      ]
     },
     "execution_count": 59,
     "metadata": {},
     "output_type": "execute_result"
    }
   ],
   "source": [
    "tensorA = np.expand_dims(A, axis=0)\n",
    "tensorB = np.expand_dims(B, axis=0)\n",
    "\n",
    "np.concatenate((tensorA, tensorB), axis=0)"
   ]
  },
  {
   "cell_type": "markdown",
   "metadata": {},
   "source": [
    "14. Tính ma trận maximum của ma trận A và B mà mỗi phần tử $m_{ij}$ của nó (phần tử thuộc dòng thứ i cột thứ j) có giá trị bằng maximum của phần tử $a_{ij}$ và $b_{ij}$ tương ứng"
   ]
  },
  {
   "cell_type": "code",
   "execution_count": 60,
   "metadata": {},
   "outputs": [
    {
     "data": {
      "text/plain": [
       "array([[10,  3,  4],\n",
       "       [ 9,  7,  4],\n",
       "       [ 3,  2,  1]])"
      ]
     },
     "execution_count": 60,
     "metadata": {},
     "output_type": "execute_result"
    }
   ],
   "source": [
    "np.maximum(A, B)"
   ]
  },
  {
   "cell_type": "markdown",
   "metadata": {},
   "source": [
    "15. Reshape ma trận $\\mathbf{B}$ thành vector"
   ]
  },
  {
   "cell_type": "code",
   "execution_count": 62,
   "metadata": {},
   "outputs": [
    {
     "data": {
      "text/plain": [
       "array([2, 3, 4, 0, 4, 2, 3, 2, 1])"
      ]
     },
     "execution_count": 62,
     "metadata": {},
     "output_type": "execute_result"
    }
   ],
   "source": [
    "np.reshape(B, -1)"
   ]
  },
  {
   "cell_type": "markdown",
   "metadata": {},
   "source": [
    "Tính toán<br>\n",
    "16. Tính ma trận phân phối xác xuất C sau khi biến đổi các véc tơ dòng của ma trận $\\mathbf{A}$ theo hàm softmax"
   ]
  },
  {
   "cell_type": "code",
   "execution_count": 63,
   "metadata": {},
   "outputs": [
    {
     "data": {
      "text/plain": [
       "array([[10,  1,  2],\n",
       "       [ 9,  7,  4],\n",
       "       [ 0,  2,  1]])"
      ]
     },
     "execution_count": 63,
     "metadata": {},
     "output_type": "execute_result"
    }
   ],
   "source": [
    "A"
   ]
  },
  {
   "cell_type": "code",
   "execution_count": 65,
   "metadata": {},
   "outputs": [
    {
     "data": {
      "text/plain": [
       "array([19, 10,  7])"
      ]
     },
     "execution_count": 65,
     "metadata": {},
     "output_type": "execute_result"
    }
   ],
   "source": [
    "np.sum(A, axis=0)"
   ]
  },
  {
   "cell_type": "code",
   "execution_count": 69,
   "metadata": {},
   "outputs": [
    {
     "data": {
      "text/plain": [
       "array([[9.99541338e-01, 1.23353201e-04, 3.35308764e-04],\n",
       "       [8.75600595e-01, 1.18499655e-01, 5.89975040e-03],\n",
       "       [9.00305732e-02, 6.65240956e-01, 2.44728471e-01]])"
      ]
     },
     "execution_count": 69,
     "metadata": {},
     "output_type": "execute_result"
    }
   ],
   "source": [
    "softmax_A = np.exp(A)\n",
    "softmax_A = softmax_A / softmax_A.sum(axis=1, keepdims=True) # sum for row\n",
    "softmax_A"
   ]
  },
  {
   "cell_type": "markdown",
   "metadata": {},
   "source": [
    "17. Tìm ra nhãn dự báo cho mỗi dòng ma trân softmax_A"
   ]
  },
  {
   "cell_type": "code",
   "execution_count": 70,
   "metadata": {},
   "outputs": [
    {
     "data": {
      "text/plain": [
       "array([0, 0, 1], dtype=int64)"
      ]
     },
     "execution_count": 70,
     "metadata": {},
     "output_type": "execute_result"
    }
   ],
   "source": [
    "np.argmax(softmax_A, axis=1)"
   ]
  },
  {
   "cell_type": "markdown",
   "metadata": {},
   "source": [
    "18. Tìm mean, min, max của mỗi dòng ma trận C"
   ]
  },
  {
   "cell_type": "code",
   "execution_count": 71,
   "metadata": {},
   "outputs": [
    {
     "name": "stdout",
     "output_type": "stream",
     "text": [
      "Min for row:  [0.00012335 0.00589975 0.09003057]\n",
      "Max for row:  [0.99954134 0.8756006  0.66524096]\n",
      "Mean for row:  [0.33333333 0.33333333 0.33333333]\n"
     ]
    }
   ],
   "source": [
    "print('Min for row: ',np.min(softmax_A, axis=1))\n",
    "print('Max for row: ',np.max(softmax_A, axis=1))\n",
    "print('Mean for row: ',np.mean(softmax_A, axis=1))"
   ]
  },
  {
   "cell_type": "markdown",
   "metadata": {},
   "source": [
    "19. Biến đổi các dòng của ma trận $\\mathbf{A}$ bằng cách trừ đi giá trị nhỏ nhất của mỗi dòng để thu được ma trận $\\mathbf{D}$"
   ]
  },
  {
   "cell_type": "code",
   "execution_count": 82,
   "metadata": {},
   "outputs": [
    {
     "data": {
      "text/plain": [
       "array([[10,  1,  2],\n",
       "       [ 9,  7,  4],\n",
       "       [ 0,  2,  1]])"
      ]
     },
     "execution_count": 82,
     "metadata": {},
     "output_type": "execute_result"
    }
   ],
   "source": [
    "A"
   ]
  },
  {
   "cell_type": "code",
   "execution_count": 84,
   "metadata": {},
   "outputs": [
    {
     "data": {
      "text/plain": [
       "array([[9, 0, 1],\n",
       "       [5, 3, 0],\n",
       "       [0, 2, 1]])"
      ]
     },
     "execution_count": 84,
     "metadata": {},
     "output_type": "execute_result"
    }
   ],
   "source": [
    "D = A - np.min(A, axis=1, keepdims=True)\n",
    "D"
   ]
  },
  {
   "cell_type": "markdown",
   "metadata": {},
   "source": [
    "20. Tình toán lại phân phối xác suất của mỗi dòng trên ma trận $\\mathbf{D}$ và nhận xét về kết quả nhận được so với phân phối xác suất nhận được từ câu 14."
   ]
  },
  {
   "cell_type": "code",
   "execution_count": 85,
   "metadata": {},
   "outputs": [
    {
     "data": {
      "text/plain": [
       "array([[9.99541338e-01, 1.23353201e-04, 3.35308764e-04],\n",
       "       [8.75600595e-01, 1.18499655e-01, 5.89975040e-03],\n",
       "       [9.00305732e-02, 6.65240956e-01, 2.44728471e-01]])"
      ]
     },
     "execution_count": 85,
     "metadata": {},
     "output_type": "execute_result"
    }
   ],
   "source": [
    "D = np.exp(A)\n",
    "D = D / np.sum(D, axis=1, keepdims=True)\n",
    "D"
   ]
  },
  {
   "cell_type": "code",
   "execution_count": 86,
   "metadata": {},
   "outputs": [
    {
     "data": {
      "text/plain": [
       "array([0, 0, 1], dtype=int64)"
      ]
     },
     "execution_count": 86,
     "metadata": {},
     "output_type": "execute_result"
    }
   ],
   "source": [
    "np.argmax(D, axis=1)"
   ]
  },
  {
   "cell_type": "markdown",
   "metadata": {},
   "source": [
    "21. Tạo thành ma trận con kích thước `2x2` bằng cách trích xuất 2 dòng đầu tiên và 2 cột đầu tiên của ma trận $\\mathbf{A}$"
   ]
  },
  {
   "cell_type": "code",
   "execution_count": 89,
   "metadata": {},
   "outputs": [
    {
     "data": {
      "text/plain": [
       "array([[10,  1],\n",
       "       [ 9,  7]])"
      ]
     },
     "execution_count": 89,
     "metadata": {},
     "output_type": "execute_result"
    }
   ],
   "source": [
    "subA = A[:2, :2]\n",
    "subA"
   ]
  },
  {
   "cell_type": "code",
   "execution_count": null,
   "metadata": {},
   "outputs": [],
   "source": []
  }
 ],
 "metadata": {
  "kernelspec": {
   "display_name": "base",
   "language": "python",
   "name": "python3"
  },
  "language_info": {
   "codemirror_mode": {
    "name": "ipython",
    "version": 3
   },
   "file_extension": ".py",
   "mimetype": "text/x-python",
   "name": "python",
   "nbconvert_exporter": "python",
   "pygments_lexer": "ipython3",
   "version": "3.9.12"
  }
 },
 "nbformat": 4,
 "nbformat_minor": 2
}
